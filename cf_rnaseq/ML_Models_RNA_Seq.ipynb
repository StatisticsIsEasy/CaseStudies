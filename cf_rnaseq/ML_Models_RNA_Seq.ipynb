{
 "cells": [
  {
   "cell_type": "code",
   "execution_count": null,
   "metadata": {
    "colab": {},
    "colab_type": "code",
    "id": "Yx7PSYejfpTB"
   },
   "outputs": [],
   "source": [
    "import pandas as pd\n",
    "import matplotlib.pyplot as plt\n",
    "import re\n",
    "import numpy as np"
   ]
  },
  {
   "cell_type": "code",
   "execution_count": null,
   "metadata": {
    "colab": {},
    "colab_type": "code",
    "id": "hdsGwjyBfyzq"
   },
   "outputs": [],
   "source": [
    "# Reads the data into a dataframe and renames the columns to remove unnecessary numbers \n",
    "data_df = pd.read_excel(\"RNASeqData.xlsx\")\n",
    "data_df = data_df.rename(columns=lambda x: re.sub(\"w_[0-9]+_O\", \"w_O\",x))\n",
    "data_df = data_df.rename(columns=lambda x: re.sub(\"m_[0-9]+_O\", \"m_O\",x))\n",
    "columns = list(data_df.columns) "
   ]
  },
  {
   "cell_type": "code",
   "execution_count": null,
   "metadata": {
    "colab": {},
    "colab_type": "code",
    "id": "nyN9OPCPf2uP"
   },
   "outputs": [],
   "source": [
    "# Filtering Significant Genes - As per previous Analysis\n",
    "significant_genes = [8384, 2066, 13503, 7204, 188, 10516, 5750, 3290]\n",
    "significant_data_df = data_df.loc[data_df['RowID'].isin(significant_genes)]"
   ]
  },
  {
   "cell_type": "code",
   "execution_count": null,
   "metadata": {
    "colab": {},
    "colab_type": "code",
    "id": "53QloujmgzkH"
   },
   "outputs": [],
   "source": [
    "norm_cols = [x for x in columns if \"Norm\" in x]\n",
    "norm_cols_healthy = [x for x in norm_cols if \"HC\" in x]\n",
    "norm_cols_patient = [x for x in norm_cols if \"HC\" not in x]\n",
    "norm_cols_base = [x for x in norm_cols_patient if \"Base\" in x]"
   ]
  },
  {
   "cell_type": "code",
   "execution_count": null,
   "metadata": {
    "colab": {},
    "colab_type": "code",
    "id": "qGXm0wI_gbx-"
   },
   "outputs": [],
   "source": [
    "#Preparing Data\n",
    "df_norm_healthy = significant_data_df[norm_cols_healthy]\n",
    "df_norm_healthy_T = df_norm_healthy.T\n",
    "labels_healthy = [1]*20\n",
    "\n",
    "df_norm_base = significant_data_df[norm_cols_base]\n",
    "df_norm_base_T = df_norm_base.T\n",
    "labels_patient = [0]*20"
   ]
  },
  {
   "cell_type": "code",
   "execution_count": null,
   "metadata": {
    "colab": {},
    "colab_type": "code",
    "id": "_ekgunX9iHZq"
   },
   "outputs": [],
   "source": [
    "X1 = df_norm_healthy_T.values\n",
    "X2 = df_norm_base_T.values\n",
    "Y1 = np.zeros((1,20))\n",
    "Y2 = np.ones((1,20))"
   ]
  },
  {
   "cell_type": "code",
   "execution_count": null,
   "metadata": {
    "colab": {
     "base_uri": "https://localhost:8080/",
     "height": 34
    },
    "colab_type": "code",
    "id": "8UwuHmZvlH4Z",
    "outputId": "04d59a4d-1790-4a19-a9e4-d77576587a23"
   },
   "outputs": [
    {
     "data": {
      "text/plain": [
       "(40, 8)"
      ]
     },
     "execution_count": 12,
     "metadata": {
      "tags": []
     },
     "output_type": "execute_result"
    }
   ],
   "source": [
    "X = np.concatenate((X1, X2), axis=0)\n",
    "X.shape"
   ]
  },
  {
   "cell_type": "code",
   "execution_count": null,
   "metadata": {
    "colab": {
     "base_uri": "https://localhost:8080/",
     "height": 34
    },
    "colab_type": "code",
    "id": "6Z7fN8gllY_a",
    "outputId": "b2164538-ebb1-47c2-e111-c489dbc78522"
   },
   "outputs": [
    {
     "data": {
      "text/plain": [
       "(40,)"
      ]
     },
     "execution_count": 13,
     "metadata": {
      "tags": []
     },
     "output_type": "execute_result"
    }
   ],
   "source": [
    "Y = np.concatenate((Y1, Y2), axis=1)\n",
    "Y = np.reshape(Y, 40)\n",
    "Y.shape"
   ]
  },
  {
   "cell_type": "code",
   "execution_count": null,
   "metadata": {
    "colab": {},
    "colab_type": "code",
    "id": "9_zKS5xQmZhP"
   },
   "outputs": [],
   "source": [
    "from sklearn.model_selection import train_test_split\n",
    "X_train, X_test, Y_train, Y_test = train_test_split(X, Y, test_size = 0.20)"
   ]
  },
  {
   "cell_type": "markdown",
   "metadata": {
    "colab_type": "text",
    "id": "7fJb0PQGAP_G"
   },
   "source": [
    "**SVM**"
   ]
  },
  {
   "cell_type": "code",
   "execution_count": null,
   "metadata": {
    "colab": {
     "base_uri": "https://localhost:8080/",
     "height": 238
    },
    "colab_type": "code",
    "id": "1K4OZrPLm-c8",
    "outputId": "78c3e713-12d6-4f23-fcc1-9b04d907b6ed"
   },
   "outputs": [
    {
     "name": "stdout",
     "output_type": "stream",
     "text": [
      "[[3 1]\n",
      " [0 4]]\n",
      "              precision    recall  f1-score   support\n",
      "\n",
      "         0.0       1.00      0.75      0.86         4\n",
      "         1.0       0.80      1.00      0.89         4\n",
      "\n",
      "    accuracy                           0.88         8\n",
      "   macro avg       0.90      0.88      0.87         8\n",
      "weighted avg       0.90      0.88      0.87         8\n",
      "\n",
      "Predictions:  [0. 1. 0. 0. 1. 1. 1. 1.]\n",
      "Expected:     [0. 1. 0. 0. 1. 0. 1. 1.]\n"
     ]
    }
   ],
   "source": [
    "from sklearn.svm import SVC\n",
    "svclassifier = SVC(kernel='linear')\n",
    "svclassifier.fit(X_train, Y_train)\n",
    "Y_pred = svclassifier.predict(X_test)\n",
    "from sklearn.metrics import classification_report, confusion_matrix\n",
    "print(confusion_matrix(Y_test,Y_pred))\n",
    "print(classification_report(Y_test,Y_pred))\n",
    "print(\"Predictions: \", Y_pred)\n",
    "print(\"Expected:    \", Y_test)"
   ]
  },
  {
   "cell_type": "markdown",
   "metadata": {
    "colab_type": "text",
    "id": "TqYfUXPAAZI1"
   },
   "source": [
    "**Decision Trees**"
   ]
  },
  {
   "cell_type": "code",
   "execution_count": null,
   "metadata": {
    "colab": {
     "base_uri": "https://localhost:8080/",
     "height": 238
    },
    "colab_type": "code",
    "id": "d_ODsj9P_WFm",
    "outputId": "ddfe9605-ac42-4bfe-c672-cb46b014f27a"
   },
   "outputs": [
    {
     "name": "stdout",
     "output_type": "stream",
     "text": [
      "[[3 1]\n",
      " [0 4]]\n",
      "              precision    recall  f1-score   support\n",
      "\n",
      "         0.0       1.00      0.75      0.86         4\n",
      "         1.0       0.80      1.00      0.89         4\n",
      "\n",
      "    accuracy                           0.88         8\n",
      "   macro avg       0.90      0.88      0.87         8\n",
      "weighted avg       0.90      0.88      0.87         8\n",
      "\n",
      "Predictions:  [0. 1. 0. 0. 1. 1. 1. 1.]\n",
      "Expected:     [0. 1. 0. 0. 1. 0. 1. 1.]\n"
     ]
    }
   ],
   "source": [
    "from sklearn.tree import DecisionTreeClassifier\n",
    "dtclassifier = DecisionTreeClassifier(random_state=0)\n",
    "dtclassifier.fit(X_train, Y_train)\n",
    "Y_pred_dt = dtclassifier.predict(X_test)\n",
    "print(confusion_matrix(Y_test,Y_pred_dt))\n",
    "print(classification_report(Y_test,Y_pred_dt))\n",
    "print(\"Predictions: \", Y_pred_dt)\n",
    "print(\"Expected:    \", Y_test)"
   ]
  },
  {
   "cell_type": "markdown",
   "metadata": {
    "colab_type": "text",
    "id": "JX-JgU-fBpHS"
   },
   "source": [
    "**Random Forest**"
   ]
  },
  {
   "cell_type": "code",
   "execution_count": null,
   "metadata": {
    "colab": {
     "base_uri": "https://localhost:8080/",
     "height": 238
    },
    "colab_type": "code",
    "id": "R-hMeCkZBBXO",
    "outputId": "0d01e92b-ec4f-410c-8536-33acf95b44e8"
   },
   "outputs": [
    {
     "name": "stdout",
     "output_type": "stream",
     "text": [
      "[[3 1]\n",
      " [0 4]]\n",
      "              precision    recall  f1-score   support\n",
      "\n",
      "         0.0       1.00      0.75      0.86         4\n",
      "         1.0       0.80      1.00      0.89         4\n",
      "\n",
      "    accuracy                           0.88         8\n",
      "   macro avg       0.90      0.88      0.87         8\n",
      "weighted avg       0.90      0.88      0.87         8\n",
      "\n",
      "Predictions:  [0. 1. 0. 0. 1. 1. 1. 1.]\n",
      "Expected:     [0. 1. 0. 0. 1. 0. 1. 1.]\n"
     ]
    }
   ],
   "source": [
    "from sklearn.ensemble import RandomForestClassifier\n",
    "rfclassifier = RandomForestClassifier(n_estimators=100)\n",
    "rfclassifier.fit(X_train, Y_train)\n",
    "Y_pred_rf = rfclassifier.predict(X_test)\n",
    "print(confusion_matrix(Y_test,Y_pred_rf))\n",
    "print(classification_report(Y_test,Y_pred_rf))\n",
    "print(\"Predictions: \", Y_pred_rf)\n",
    "print(\"Expected:    \", Y_test)"
   ]
  },
  {
   "cell_type": "code",
   "execution_count": null,
   "metadata": {
    "colab": {},
    "colab_type": "code",
    "id": "oQdMxWNwBcgI"
   },
   "outputs": [],
   "source": []
  }
 ],
 "metadata": {
  "colab": {
   "name": "ML Models RNA Seq.ipynb",
   "provenance": []
  },
  "kernelspec": {
   "display_name": "Python 3",
   "language": "python",
   "name": "python3"
  },
  "language_info": {
   "codemirror_mode": {
    "name": "ipython",
    "version": 3
   },
   "file_extension": ".py",
   "mimetype": "text/x-python",
   "name": "python",
   "nbconvert_exporter": "python",
   "pygments_lexer": "ipython3",
   "version": "3.8.5"
  }
 },
 "nbformat": 4,
 "nbformat_minor": 4
}

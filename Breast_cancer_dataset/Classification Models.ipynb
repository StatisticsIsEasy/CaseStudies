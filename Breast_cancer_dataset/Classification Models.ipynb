{
 "cells": [
  {
   "cell_type": "code",
   "execution_count": 21,
   "metadata": {},
   "outputs": [],
   "source": [
    "import pandas as pd\n",
    "import numpy as np\n",
    "from sklearn.model_selection import train_test_split\n",
    "from sklearn.linear_model import LogisticRegression\n",
    "from sklearn.tree import DecisionTreeClassifier\n",
    "from sklearn.ensemble import RandomForestClassifier\n",
    "from sklearn import svm\n",
    "from sklearn.metrics import f1_score"
   ]
  },
  {
   "cell_type": "code",
   "execution_count": 22,
   "metadata": {},
   "outputs": [],
   "source": [
    "import warnings\n",
    "warnings.filterwarnings('ignore')"
   ]
  },
  {
   "cell_type": "markdown",
   "metadata": {},
   "source": [
    "### Loading data and removing non-relevant columns"
   ]
  },
  {
   "cell_type": "code",
   "execution_count": 23,
   "metadata": {},
   "outputs": [],
   "source": [
    "df = pd.read_csv('breast_cancer_data.csv')\n",
    "df = df.drop('Unnamed: 32', axis = 1)\n",
    "df = df.drop('id', axis = 1)"
   ]
  },
  {
   "cell_type": "code",
   "execution_count": 24,
   "metadata": {},
   "outputs": [],
   "source": [
    "#we generate labels, denoted by Y (diagnosis column) and the rest of the data will be denoted by X\n",
    "labels = df['diagnosis']\n",
    "Y = [1 if ele == \"M\" else 0 for ele in labels] #convert labels M and B to binary(1 and 0)\n",
    "df = df.drop('diagnosis', axis=1)#drop the diagnosis column from the dataframe"
   ]
  },
  {
   "cell_type": "code",
   "execution_count": 25,
   "metadata": {},
   "outputs": [],
   "source": [
    "#shuffling the dataframe\n",
    "df.sample(frac=1)\n",
    "X = df\n",
    "\n",
    "#splitting data into train and test\n",
    "#this is done to test on samples that the model has not been trained on, it leads to less bias\n",
    "X_train, X_test, Y_train, Y_test = train_test_split(X, Y, test_size = 0.2)"
   ]
  },
  {
   "cell_type": "markdown",
   "metadata": {},
   "source": [
    "### Logistic Regression"
   ]
  },
  {
   "cell_type": "code",
   "execution_count": 30,
   "metadata": {},
   "outputs": [
    {
     "name": "stdout",
     "output_type": "stream",
     "text": [
      "Test F1-score:  0.945945945945946\n"
     ]
    }
   ],
   "source": [
    "clf = LogisticRegression().fit(X_train, Y_train)\n",
    "Y_predicted_lr = clf.predict(X_test)\n",
    "print(\"Test F1-score: \", f1_score(Y_predicted_lr, Y_test))"
   ]
  },
  {
   "cell_type": "markdown",
   "metadata": {},
   "source": [
    "### Decision Tree Classifier"
   ]
  },
  {
   "cell_type": "code",
   "execution_count": 31,
   "metadata": {},
   "outputs": [
    {
     "name": "stdout",
     "output_type": "stream",
     "text": [
      "Test F1-score:  0.8571428571428572\n"
     ]
    }
   ],
   "source": [
    "clf_gini = DecisionTreeClassifier(criterion=\"gini\").fit(X_train, Y_train)\n",
    "Y_predicted_dt = clf_gini.predict(X_test)\n",
    "print(\"Test F1-score: \", f1_score(Y_predicted_dt, Y_test))"
   ]
  },
  {
   "cell_type": "markdown",
   "metadata": {},
   "source": [
    "### Random Forest Classifier "
   ]
  },
  {
   "cell_type": "code",
   "execution_count": 32,
   "metadata": {},
   "outputs": [
    {
     "name": "stdout",
     "output_type": "stream",
     "text": [
      "Test F1-score:  0.945945945945946\n"
     ]
    }
   ],
   "source": [
    "clf_random_forest = RandomForestClassifier().fit(X_train, Y_train)\n",
    "Y_predicted_rf = clf_random_forest.predict(X_test)\n",
    "print(\"Test F1-score: \", f1_score(Y_predicted_rf, Y_test))"
   ]
  },
  {
   "cell_type": "markdown",
   "metadata": {},
   "source": [
    "### SVM"
   ]
  },
  {
   "cell_type": "code",
   "execution_count": 33,
   "metadata": {},
   "outputs": [
    {
     "name": "stdout",
     "output_type": "stream",
     "text": [
      "Test F1-score:  0.0\n"
     ]
    }
   ],
   "source": [
    "clf_svm = svm.SVC().fit(X_train, Y_train)\n",
    "Y_predicted_svm = clf_svm.predict(X_test)\n",
    "print(\"Test F1-score: \", f1_score(Y_predicted_svm, Y_test))"
   ]
  },
  {
   "cell_type": "code",
   "execution_count": null,
   "metadata": {},
   "outputs": [],
   "source": []
  }
 ],
 "metadata": {
  "kernelspec": {
   "display_name": "Python 3",
   "language": "python",
   "name": "python3"
  },
  "language_info": {
   "codemirror_mode": {
    "name": "ipython",
    "version": 3
   },
   "file_extension": ".py",
   "mimetype": "text/x-python",
   "name": "python",
   "nbconvert_exporter": "python",
   "pygments_lexer": "ipython3",
   "version": "3.8.5"
  }
 },
 "nbformat": 4,
 "nbformat_minor": 4
}

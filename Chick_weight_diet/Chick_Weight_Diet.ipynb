{
 "cells": [
  {
   "cell_type": "markdown",
   "metadata": {},
   "source": [
    "# Chick Weight and Diet\n",
    "\n",
    "This study determines which diet results in the largest weight gain in chicks. \n",
    " Diet1 is the normal diet and the other three diets are alternatives.\n", 
    " We use non-parametric methods to determine:\n",
    "- Which of the diets resulted in statistically  most significant weight gain compared to Diet1\n",
    "- Provide a confidence interval for an estimate of the real weight gain\n",
    "- Determine if a quadratic regression model is significantly more accurate than using a simple linear regression."
   ]
  },
  {
   "cell_type": "markdown",
   "metadata": {},
   "source": [
    "## 2.2.1 Data preparation\n",
    "\n",
    "5 of the chicks do not have measurements for the final day, day 21 so were removed from the analysis."
   ]
  },
  {
   "cell_type": "code",
   "execution_count": 2,
   "metadata": {},
   "outputs": [
    {
     "data": {
      "text/html": [
       "<div>\n",
       "<style scoped>\n",
       "    .dataframe tbody tr th:only-of-type {\n",
       "        vertical-align: middle;\n",
       "    }\n",
       "\n",
       "    .dataframe tbody tr th {\n",
       "        vertical-align: top;\n",
       "    }\n",
       "\n",
       "    .dataframe thead th {\n",
       "        text-align: right;\n",
       "    }\n",
       "</style>\n",
       "<table border=\"1\" class=\"dataframe\">\n",
       "  <thead>\n",
       "    <tr style=\"text-align: right;\">\n",
       "      <th></th>\n",
       "      <th>weight</th>\n",
       "      <th>Time</th>\n",
       "      <th>Chick</th>\n",
       "      <th>Diet</th>\n",
       "    </tr>\n",
       "  </thead>\n",
       "  <tbody>\n",
       "    <tr>\n",
       "      <th>0</th>\n",
       "      <td>42</td>\n",
       "      <td>0</td>\n",
       "      <td>1</td>\n",
       "      <td>1</td>\n",
       "    </tr>\n",
       "    <tr>\n",
       "      <th>1</th>\n",
       "      <td>51</td>\n",
       "      <td>2</td>\n",
       "      <td>1</td>\n",
       "      <td>1</td>\n",
       "    </tr>\n",
       "    <tr>\n",
       "      <th>2</th>\n",
       "      <td>59</td>\n",
       "      <td>4</td>\n",
       "      <td>1</td>\n",
       "      <td>1</td>\n",
       "    </tr>\n",
       "    <tr>\n",
       "      <th>3</th>\n",
       "      <td>64</td>\n",
       "      <td>6</td>\n",
       "      <td>1</td>\n",
       "      <td>1</td>\n",
       "    </tr>\n",
       "    <tr>\n",
       "      <th>4</th>\n",
       "      <td>76</td>\n",
       "      <td>8</td>\n",
       "      <td>1</td>\n",
       "      <td>1</td>\n",
       "    </tr>\n",
       "  </tbody>\n",
       "</table>\n",
       "</div>"
      ],
      "text/plain": [
       "   weight  Time  Chick  Diet\n",
       "0      42     0      1     1\n",
       "1      51     2      1     1\n",
       "2      59     4      1     1\n",
       "3      64     6      1     1\n",
       "4      76     8      1     1"
      ]
     },
     "execution_count": 2,
     "metadata": {},
     "output_type": "execute_result"
    }
   ],
   "source": [
    "import pandas as pd\n",
    "chickweight = pd.read_csv('chick_weight.csv')\n",
    "chickweight = chickweight.drop(['Unnamed: 0'], axis=1)\n",
    "chickweight.head()"
   ]
  },
  {
   "cell_type": "code",
   "execution_count": 18,
   "metadata": {},
   "outputs": [
    {
     "data": {
      "text/plain": [
       "(578, 4)"
      ]
     },
     "execution_count": 18,
     "metadata": {},
     "output_type": "execute_result"
    }
   ],
   "source": [
    "chickweight.shape"
   ]
  },
  {
   "cell_type": "code",
   "execution_count": 15,
   "metadata": {},
   "outputs": [
    {
     "data": {
      "text/plain": [
       "(50, 12)"
      ]
     },
     "execution_count": 15,
     "metadata": {},
     "output_type": "execute_result"
    }
   ],
   "source": [
    "# Every chick is already assigned to a diet.\n",
    "# We will simply identify which chicks are missing a value for day 21\n",
    "# And then remove those chicks from the original dataframe.\n",
    "chick_wide = chickweight.pivot(index='Chick', columns='Time', values='weight')\n",
    "chick_wide.shape"
   ]
  },
  {
   "cell_type": "code",
   "execution_count": 16,
   "metadata": {},
   "outputs": [
    {
     "data": {
      "text/plain": [
       "(45, 12)"
      ]
     },
     "execution_count": 16,
     "metadata": {},
     "output_type": "execute_result"
    }
   ],
   "source": [
    "chick_wide_nona = chick_wide.dropna()\n",
    "chick_wide_nona.shape"
   ]
  },
  {
   "cell_type": "code",
   "execution_count": 17,
   "metadata": {},
   "outputs": [
    {
     "data": {
      "text/plain": [
       "Int64Index([ 1,  2,  3,  4,  5,  6,  7,  9, 10, 11, 12, 13, 14, 17, 19, 20, 21,\n",
       "            22, 23, 24, 25, 26, 27, 28, 29, 30, 31, 32, 33, 34, 35, 36, 37, 38,\n",
       "            39, 40, 41, 42, 43, 45, 46, 47, 48, 49, 50],\n",
       "           dtype='int64', name='Chick')"
      ]
     },
     "execution_count": 17,
     "metadata": {},
     "output_type": "execute_result"
    }
   ],
   "source": [
    "chick_wide_nona.index"
   ]
  },
  {
   "cell_type": "code",
   "execution_count": 20,
   "metadata": {},
   "outputs": [
    {
     "data": {
      "text/plain": [
       "(540, 4)"
      ]
     },
     "execution_count": 20,
     "metadata": {},
     "output_type": "execute_result"
    }
   ],
   "source": [
    "chickweight = chickweight[chickweight['Chick'].isin(chick_wide_nona.index)]\n",
    "chickweight.shape"
   ]
  },
  {
   "cell_type": "markdown",
   "metadata": {},
   "source": [
    "## 2.3.1 WEIGHT CHANGE SIGNIFICANCE"
   ]
  },
  {
   "cell_type": "markdown",
   "metadata": {},
   "source": [
    "Get final weights"
   ]
  },
  {
   "cell_type": "code",
   "execution_count": 21,
   "metadata": {},
   "outputs": [],
   "source": [
    "# For all the diets, obtain the final weights.\n",
    "# We could have simply selected day 21, however this function allows\n",
    "# to obtain final weights even if the chick does not have a measurement\n",
    "# for day 21.\n",
    "def get_final_weights_for_diet(diet):\n",
    "    df_this_diet = chickweight[chickweight['Diet']==diet]\n",
    "    final_weights = []\n",
    "    chicks = list(df_this_diet.Chick.unique())\n",
    "    for chick_num in chicks:\n",
    "        temp_df = df_this_diet[df_this_diet['Chick']==chick_num]\n",
    "        final_weight = list(temp_df['weight'])[-1]\n",
    "        final_weights.append(final_weight)\n",
    "    return final_weights\n",
    "\n",
    "all_final_weights = {}\n",
    "for i in range(1,5):\n",
    "    all_final_weights[i] = get_final_weights_for_diet(i)"
   ]
  },
  {
   "cell_type": "markdown",
   "metadata": {},
   "source": [
    "The shuffle function"
   ]
  },
  {
   "cell_type": "code",
   "execution_count": 32,
   "metadata": {},
   "outputs": [],
   "source": [
    "# This shuffle function takes an number of groups.\n",
    "import random\n",
    "def shuffle(grps):\n",
    "    num_grps = len(grps)\n",
    "    pool = []\n",
    "\n",
    "    # pool all values\n",
    "    for i in range(num_grps):\n",
    "        pool.extend(grps[i])\n",
    "    # mix them up\n",
    "    random.shuffle(pool)\n",
    "    # reassign to groups of same size as original groups\n",
    "    new_grps = []\n",
    "    start_index = 0\n",
    "    end_index = 0\n",
    "    for i in range(num_grps):\n",
    "        end_index = start_index + len(grps[i])\n",
    "        new_grps.append(pool[start_index:end_index])\n",
    "        start_index = end_index\n",
    "    return new_grps"
   ]
  },
  {
   "cell_type": "code",
   "execution_count": 24,
   "metadata": {},
   "outputs": [],
   "source": [
    "# A quick function to return the difference of the average of two groups\n",
    "def meandiff(grpA, grpB):\n",
    "    return sum(grpB) / float(len(grpB)) - sum(grpA) / float(len(grpA))"
   ]
  },
  {
   "cell_type": "code",
   "execution_count": 30,
   "metadata": {},
   "outputs": [],
   "source": [
    "# this function draws a histogram.\n",
    "# diet_1 and diet_2 are the two diets being compared.\n",
    "# It is used simply for the title\n",
    "# the observed value defines where to draw the vertical line\n",
    "# d is a set of values.\n",
    "import numpy as np\n",
    "import matplotlib.pyplot as plt\n",
    "def draw_hist(d, observed, diet_1, diet_2):\n",
    "    hist,bin_edges = np.histogram(d, bins=5000)    \n",
    "    plt.figure(figsize=[8,8])\n",
    "    plt.bar(bin_edges[:-1], hist, width = 1, color='#0504aa',alpha=0.7)\n",
    "    plt.xlim(-125, 125)\n",
    "    plt.ylim(0,35)\n",
    "    plt.grid(axis='y', alpha=0.75)\n",
    "    plt.xlabel('Difference',fontsize=15)\n",
    "    plt.ylabel('Frequency',fontsize=15)\n",
    "    plt.xticks(fontsize=15)\n",
    "    plt.yticks(fontsize=15)\n",
    "    plt.ylabel('Frequency',fontsize=15)\n",
    "    plt.title('Distribution of Difference Diet ' + str(diet_2) + ' - Diet ' + str(diet_1),fontsize=15)\n",
    "    plt.axvline(x=observed, color='r', linestyle='dashed', linewidth=2)\n",
    "    plt.show()"
   ]
  },
  {
   "cell_type": "code",
   "execution_count": 26,
   "metadata": {},
   "outputs": [],
   "source": [
    "# This is the main function \n",
    "# - first we calculate the observed mean of differnece\n",
    "# - Then 10,000 times, we shuffle the samples\n",
    "# - calculate the difference of the means of the shuffled samples\n",
    "#   and compare them to the difference of the means observed\n",
    "#\n",
    "# This is a one-tailed test, so we are only looking for an increase\n",
    "#   or positive change when comparing weights of diet2-4 compared to \n",
    "#   normal diet 1\n",
    "\n",
    "def diff2meansig(diet_1, diet_2, grpA, grpB):\n",
    "\n",
    "    # list of lists\n",
    "    samples = [grpA, grpB]\n",
    "    a = 0\n",
    "    b = 1\n",
    "\n",
    "    observed_mean_diff = meandiff(samples[a], samples[b])\n",
    "    all_mean_diffs = []\n",
    "\n",
    "    count = 0\n",
    "    num_shuffles = 10000\n",
    "\n",
    "    for i in range(num_shuffles):\n",
    "        new_samples = shuffle(samples)\n",
    "        mean_diff = meandiff(new_samples[a], new_samples[b])\n",
    "        all_mean_diffs.append(mean_diff)\n",
    "        if mean_diff >= observed_mean_diff:\n",
    "            count = count + 1\n",
    "    \n",
    "    draw_hist(all_mean_diffs, observed_mean_diff, diet_1, diet_2)\n",
    "\n",
    "    ######################################\n",
    "    #\n",
    "    # Output\n",
    "    #\n",
    "    ######################################\n",
    "    \n",
    "    print(\"**********Diet: \", diet_1, \" vs Diet: \", diet_2,\"**********\")\n",
    "\n",
    "    print (\"Observed difference of two means: %.2f\" % observed_mean_diff)\n",
    "    print (count, \"out of\", num_shuffles, \"experiments had a difference of two means \", end=\"\")\n",
    "    print (\"greater than or equal to\", end=\" \")\n",
    "    print (\"%.2f\" % observed_mean_diff, \".\")\n",
    "    print (\"The chance of getting a difference of two means\", end=\" \")\n",
    "    print (\"greater than or equal to \", end=\"\")\n",
    "    print (\"%.2f\" % observed_mean_diff, \"is\", (count / float(num_shuffles)), \".\")"
   ]
  },
  {
   "cell_type": "code",
   "execution_count": 36,
   "metadata": {},
   "outputs": [
    {
     "data": {
      "image/png": "[encoded data removed]",
      "text/plain": [
       "<Figure size 576x576 with 1 Axes>"
      ]
     },
     "metadata": {
      "needs_background": "light"
     },
     "output_type": "display_data"
    },
    {
     "name": "stdout",
     "output_type": "stream",
     "text": [
      "**********Diet:  1  vs Diet:  2 **********\n",
      "Observed difference of two means: 36.95\n",
      "887 out of 10000 experiments had a difference of two means greater than or equal to 36.95 .\n",
      "The chance of getting a difference of two means greater than or equal to 36.95 is 0.0887 .\n"
     ]
    },
    {
     "data": {
      "image/png": "[encoded data removed]",
      "text/plain": [
       "<Figure size 576x576 with 1 Axes>"
      ]
     },
     "metadata": {
      "needs_background": "light"
     },
     "output_type": "display_data"
    },
    {
     "name": "stdout",
     "output_type": "stream",
     "text": [
      "**********Diet:  1  vs Diet:  3 **********\n",
      "Observed difference of two means: 92.55\n",
      "7 out of 10000 experiments had a difference of two means greater than or equal to 92.55 .\n",
      "The chance of getting a difference of two means greater than or equal to 92.55 is 0.0007 .\n"
     ]
    },
    {
     "data": {
      "image/png": "[encoded data removed]",
      "text/plain": [
       "<Figure size 576x576 with 1 Axes>"
      ]
     },
     "metadata": {
      "needs_background": "light"
     },
     "output_type": "display_data"
    },
    {
     "name": "stdout",
     "output_type": "stream",
     "text": [
      "**********Diet:  1  vs Diet:  4 **********\n",
      "Observed difference of two means: 60.81\n",
      "74 out of 10000 experiments had a difference of two means greater than or equal to 60.81 .\n",
      "The chance of getting a difference of two means greater than or equal to 60.81 is 0.0074 .\n"
     ]
    }
   ],
   "source": [
    "random.seed(123) # this step is not necessary. \n",
    "                 # it simply allows us to repeat the same results as the book.\n",
    "combinations = [[1,2], [1,3], [1,4]]\n",
    "for combination in combinations:\n",
    "    diet_1, diet_2 = combination\n",
    "    diff2meansig(diet_1, diet_2, all_final_weights[diet_1], all_final_weights[diet_2])"
   ]
  },
  {
   "cell_type": "markdown",
   "metadata": {},
   "source": [
    "## 2.3.2 WEIGHT CHANGE CONFIDENCE INTERVAL"
   ]
  },
  {
   "cell_type": "code",
   "execution_count": 37,
   "metadata": {},
   "outputs": [],
   "source": [
    "# The bootstrap function will allow us to randomly select\n",
    "# the values with replacement ( can be selected more than once)\n",
    "def bootstrap(x):\n",
    "    samp_x = []\n",
    "    for i in range(len(x)):\n",
    "        samp_x.append(random.choice(x))\n",
    "    return samp_x"
   ]
  },
  {
   "cell_type": "code",
   "execution_count": 40,
   "metadata": {},
   "outputs": [],
   "source": [
    "# This is the main function for confidence interval.\n",
    "# It is similar to the one for shuffle test,\n",
    "# except, instead of shuffling the values, \n",
    "# we are bootstrapping the values from within the individual groups\n",
    "# and calculating the difference between the means.\n",
    "# Then we sort the differences and take the 5th and 95th highest\n",
    "# value for a 90% confidence interval\n",
    "import math\n",
    "\n",
    "def diff2meanconf(diet_1, diet_2, grpA, grpB, conf_interval):\n",
    "    # list of lists\n",
    "    samples = [grpA, grpB] \n",
    "    a = 0\n",
    "    b = 1\n",
    "\n",
    "    observed_mean_diff = meandiff(samples[a], samples[b])\n",
    "\n",
    "    num_resamples = 10000   # number of times we will resample from our original samples\n",
    "    out = []                # will store results of each time we resample\n",
    "\n",
    "    for i in range(num_resamples):\n",
    "        # get bootstrap samples for each of our groups\n",
    "        # then compute our statistic of interest\n",
    "        # append statistic to out\n",
    "        bootstrap_samples = []  # list of lists\n",
    "        for sample in samples:\n",
    "            bootstrap_samples.append(bootstrap(sample))\n",
    "        # now we have a list of bootstrap samples, run meandiff\n",
    "        out.append(meandiff(bootstrap_samples[a], bootstrap_samples[b]))\n",
    "\n",
    "    out.sort()\n",
    "\n",
    "    tails = (1 - conf_interval) / 2\n",
    "\n",
    "    # in case our lower and upper bounds are not integers,\n",
    "    # we decrease the range (the values we include in our interval),\n",
    "    # so that we can keep the same level of confidence\n",
    "    lower_bound = int(math.ceil(num_resamples * tails))\n",
    "    upper_bound = int(math.floor(num_resamples * (1 - tails)))\n",
    "\n",
    "    ######################################\n",
    "    #\n",
    "    # Output\n",
    "    #\n",
    "    ######################################\n",
    "\n",
    "    # print observed value and then confidence interval\n",
    "    print(\"**********Diet: \", diet_1, \" vs Diet: \", diet_2,\"**********\")\n",
    "    print (\"Observed difference between the means: %.2f\" % observed_mean_diff)\n",
    "    print (\"We have\", conf_interval * 100, \"% confidence that the true difference between the means\", end=\" \")\n",
    "    print (\"is between: %.2f\" % out[lower_bound], \"and %.2f\" % out[upper_bound])"
   ]
  },
  {
   "cell_type": "code",
   "execution_count": 41,
   "metadata": {},
   "outputs": [
    {
     "name": "stdout",
     "output_type": "stream",
     "text": [
      "**********Diet:  1  vs Diet:  2 **********\n",
      "Observed difference between the means: 36.95\n",
      "We have 90.0 % confidence that the true difference between the means is between: -7.99 and 81.26\n",
      "**********Diet:  1  vs Diet:  3 **********\n",
      "Observed difference between the means: 92.55\n",
      "We have 90.0 % confidence that the true difference between the means is between: 50.29 and 134.71\n",
      "**********Diet:  1  vs Diet:  4 **********\n",
      "Observed difference between the means: 60.81\n",
      "We have 90.0 % confidence that the true difference between the means is between: 29.05 and 93.35\n"
     ]
    }
   ],
   "source": [
    "random.seed(123)\n",
    "for combination in combinations:\n",
    "    diet_1, diet_2 = combination\n",
    "    diff2meanconf(diet_1, diet_2, all_final_weights[diet_1], all_final_weights[diet_2], conf_interval = 0.9)"
   ]
  },
  {
   "cell_type": "markdown",
   "metadata": {},
   "source": [
    "## 2.4 Regression Analysis"
   ]
  },
  {
   "cell_type": "code",
   "execution_count": 42,
   "metadata": {},
   "outputs": [],
   "source": [
    "# given x and y coordinates and the degree of line to fit, \n",
    "# the function will return the coefficients of the line\n",
    "def get_slope_and_intercept(X, Y, deg=1):\n",
    "    z = np.polyfit(X, Y, deg)\n",
    "    return z"
   ]
  },
  {
   "cell_type": "code",
   "execution_count": 43,
   "metadata": {},
   "outputs": [],
   "source": [
    "# using the coefficients of the line provided in z\n",
    "# and for each x and y value it will calculate the y_hat\n",
    "# for the given x and square the difference between y and y_hat.\n",
    "\n",
    "def getSS(X,Y,z):\n",
    "    # using the z values, calculate the y_hat for each values\n",
    "    # then calculate RMSE, sqrt ( Sum (y_hat - y)**2 / n )\n",
    "    all_diffs=np.array([])\n",
    "    for i in range(len(X)):\n",
    "        if len(z)==2:\n",
    "            y_hat = X[i]*z[0] + z[1]\n",
    "        if len(z)==3:\n",
    "            y_hat = X[i]*X[i]*z[0]+X[i]*z[1]+z[2]\n",
    "        all_diffs=np.append(all_diffs,[(y_hat - Y[i])**2])\n",
    "    diff_sum = sum(all_diffs)\n",
    "    \n",
    "    return diff_sum"
   ]
  },
  {
   "cell_type": "code",
   "execution_count": 44,
   "metadata": {},
   "outputs": [],
   "source": [
    "# the rmse is simply the square root of the average sum of squares\n",
    "def getRMSE(ss):\n",
    "    diff_sum = sum(ss)/len(ss)\n",
    "    return np.sqrt(diff_sum)"
   ]
  },
  {
   "cell_type": "markdown",
   "metadata": {},
   "source": [
    "First we will calculate the sum of squares for all diets\n",
    "using linear and quadratic models to fit the points.\n",
    "We are storing the sum of squares before calculating the rmse\n",
    "so we can use it for the next step."
   ]
  },
  {
   "cell_type": "code",
   "execution_count": 45,
   "metadata": {},
   "outputs": [],
   "source": [
    "uniqueDiets = chickweight.Diet.unique()\n",
    "weight = 0\n",
    "time = 1\n",
    "ss_linear_dict = {}\n",
    "ss_quadratic_dict={}\n",
    "for diet in uniqueDiets:\n",
    "        #print(\"======= Diet: \", diet,\"=======\")\n",
    "        df_this_diet = chickweight[:][chickweight.Diet == diet]\n",
    "        df_this_diet_values = df_this_diet.values\n",
    "        # for each diet calculate the regression line\n",
    "        X = np.array(df_this_diet_values[:,time], dtype=float)\n",
    "        Y = np.array(df_this_diet_values[:,weight], dtype=float) \n",
    "        z = get_slope_and_intercept(X, Y, 1)\n",
    "        \n",
    "        # for each point in the diet, calculate the RMSE and add it to rmse\n",
    "        # dictionary for a given diet.      \n",
    "        ss_linear_dict[diet] = [getSS([x], [y],z) for x, y in zip(df_this_diet['Time'], df_this_diet['weight'])]\n",
    "        \n",
    "        \n",
    "for diet in uniqueDiets:\n",
    "        #print(\"======= Diet: \", diet,\"=======\")\n",
    "        df_this_diet = chickweight[:][chickweight.Diet == diet]\n",
    "        df_this_diet_values = df_this_diet.values\n",
    "        X = np.array(df_this_diet_values[:,time], dtype=float)\n",
    "        Y = np.array(df_this_diet_values[:,weight], dtype=float) \n",
    "        z = get_slope_and_intercept(X, Y, 2)\n",
    "        ss_quadratic_dict[diet] = [getSS([x], [y],z) for x, y in zip(df_this_diet['Time'], df_this_diet['weight'])]\n",
    "        "
   ]
  },
  {
   "cell_type": "code",
   "execution_count": 47,
   "metadata": {},
   "outputs": [
    {
     "name": "stdout",
     "output_type": "stream",
     "text": [
      "======= Diet:  1 =======\n",
      "======= quadratic = 33.48244589167236\n",
      "======= linear = 33.62477126174899\n",
      "======= difference = 0.1423253700766267\n",
      "======= Diet:  2 =======\n",
      "======= quadratic = 40.693822046595365\n",
      "======= linear = 41.01465254503944\n",
      "======= difference = 0.3208304984440744\n",
      "======= Diet:  3 =======\n",
      "======= quadratic = 36.07063908131038\n",
      "======= linear = 37.90346490949627\n",
      "======= difference = 1.8328258281858893\n",
      "======= Diet:  4 =======\n",
      "======= quadratic = 20.16799044508028\n",
      "======= linear = 20.38934577556469\n",
      "======= difference = 0.22135533048440692\n"
     ]
    }
   ],
   "source": [
    "# Now we calculate the rmse\n",
    "# and the differnence between the rmse of linear vs quadratic fit\n",
    "# Note that quadratic is often more fit than linear so we will\n",
    "# subtract linear from quadratic.\n",
    "obs_rmse_diff={}\n",
    "for diet in uniqueDiets:\n",
    "        print(\"======= Diet: \", diet,\"=======\")\n",
    "        print(\"======= quadratic =\", getRMSE(ss_quadratic_dict[diet]))\n",
    "        print(\"======= linear =\", getRMSE(ss_linear_dict[diet]))\n",
    "        obs_rmse_diff[diet]=getRMSE(ss_linear_dict[diet])-getRMSE(ss_quadratic_dict[diet])\n",
    "        print(\"======= difference =\" ,obs_rmse_diff[diet])"
   ]
  },
  {
   "cell_type": "code",
   "execution_count": 48,
   "metadata": {},
   "outputs": [],
   "source": [
    "# given two values, return them either in the same order\n",
    "# or swapped.\n",
    "def randomswap(x,y):\n",
    "    # x and y are two numbers\n",
    "    rchoice = random.choice([0,1])\n",
    "    if rchoice == 0:\n",
    "        return [x,y]\n",
    "    else:\n",
    "        return [y,x]\n"
   ]
  },
  {
   "cell_type": "code",
   "execution_count": 52,
   "metadata": {},
   "outputs": [
    {
     "name": "stdout",
     "output_type": "stream",
     "text": [
      "======= Diet:  1 =======\n",
      "======= Diet:  2 =======\n",
      "======= Diet:  3 =======\n",
      "======= Diet:  4 =======\n"
     ]
    }
   ],
   "source": [
    "# For every diet,\n",
    "#   repeatedly, 10,000 times, \n",
    "#     for each point in the model\n",
    "#       swap the sum of squares from linear and quadratic models.\n",
    "#     calculate the diff of rmse between the quadratic and linear models\n",
    "\n",
    "random.seed(123)\n",
    "rmse_diff_dict={1:[], 2:[], 3:[], 4:[]}\n",
    "rmse_linear_dict={1:[], 2:[], 3:[], 4:[]}\n",
    "rmse_quad_dict={1:[], 2:[], 3:[], 4:[]}\n",
    "\n",
    "for diet in uniqueDiets:\n",
    "    print(\"======= Diet: \", diet,\"=======\")\n",
    "    for j in range(10000):\n",
    "        temp_quadratic=[]\n",
    "        temp_linear=[]\n",
    "        for i in range(len(ss_quadratic_dict[diet])):\n",
    "            temp_q, temp_l = randomswap(ss_quadratic_dict[diet][i],ss_linear_dict[diet][i])\n",
    "            temp_quadratic.append(temp_q)\n",
    "            temp_linear.append(temp_l)\n",
    "        temp_linear_rmse = getRMSE(temp_linear)\n",
    "        temp_quad_rmse = getRMSE(temp_quadratic)\n",
    "        rmse_linear_dict[diet].append(temp_linear_rmse)\n",
    "        rmse_quad_dict[diet].append(temp_quad_rmse)\n",
    "        rmse_diff = temp_linear_rmse - temp_quad_rmse\n",
    "        rmse_diff_dict[diet].append(rmse_diff)"
   ]
  },
  {
   "cell_type": "code",
   "execution_count": 53,
   "metadata": {},
   "outputs": [
    {
     "name": "stdout",
     "output_type": "stream",
     "text": [
      "======= Diet:  1 =======\n",
      "p-value  0.2734\n",
      "lwr  -0.3726690712336094\n",
      "upr  0.378109805593958\n",
      "======= Diet:  2 =======\n",
      "p-value  0.2578\n",
      "lwr  -0.8055943101417782\n",
      "upr  0.7956830142914555\n",
      "======= Diet:  3 =======\n",
      "p-value  0.0522\n",
      "lwr  -1.8280945218771478\n",
      "upr  1.8569605585677635\n",
      "======= Diet:  4 =======\n",
      "p-value  0.2566\n",
      "lwr  -0.5273887567572402\n",
      "upr  0.5354587480335091\n"
     ]
    }
   ],
   "source": [
    "# compare observed values to the swapped ones above\n",
    "# and provide the 90% confidence intervals\n",
    "\n",
    "for diet in uniqueDiets:\n",
    "        print(\"======= Diet: \", diet,\"=======\")\n",
    "        sorted_rmse = rmse_diff_dict[diet]\n",
    "        sorted_rmse.sort()\n",
    "        count = sum([r >= obs_rmse_diff[diet] for r in sorted_rmse])\n",
    "        print(\"p-value \", str(count/10000))\n",
    "        #sorted_rmse.sort()\n",
    "        print(\"lwr \", str(sorted_rmse[500]))\n",
    "        print(\"upr \", str(sorted_rmse[9500]))\n"
   ]
  }
 ],
 "metadata": {
  "kernelspec": {
   "display_name": "Python 3",
   "language": "python",
   "name": "python3"
  },
  "language_info": {
   "codemirror_mode": {
    "name": "ipython",
    "version": 3
   },
   "file_extension": ".py",
   "mimetype": "text/x-python",
   "name": "python",
   "nbconvert_exporter": "python",
   "pygments_lexer": "ipython3",
   "version": "3.8.5"
  }
 },
 "nbformat": 4,
 "nbformat_minor": 4
}
